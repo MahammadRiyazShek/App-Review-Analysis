{
 "cells": [
  {
   "cell_type": "markdown",
   "metadata": {},
   "source": [
    "# Evaluating User Reviews and Competitive Analysis for Mobile Apps"
   ]
  },
  {
   "cell_type": "markdown",
   "metadata": {},
   "source": [
    "## Purpose\n",
    "This project focuses on evaluating and understanding the sentiments and competitive analysis expressed in user reviews of mobile applications (apps). It involves using data analysis techniques to determine whether the sentiment and competitive analysis in these reviews are positive, negative, or neutral and analyzing reviews of competing apps."
   ]
  },
  {
   "cell_type": "code",
   "execution_count": 1,
   "metadata": {},
   "outputs": [],
   "source": [
    "# Step 1: Importing necessary packages\n",
    "import pandas as pd\n",
    "import matplotlib.pyplot as plt\n",
    "import seaborn as sns\n",
    "from wordcloud import WordCloud\n",
    "from collections import Counter"
   ]
  },
  {
   "cell_type": "code",
   "execution_count": 2,
   "metadata": {},
   "outputs": [],
   "source": [
    "# Step 2: Loading the data from the local system to the Jupyter notebook\n",
    "file_path = \"app_reviews.json\"  # Change this to the path of your JSON file\n",
    "df = pd.read_json(file_path)"
   ]
  },
  {
   "cell_type": "code",
   "execution_count": 3,
   "metadata": {},
   "outputs": [
    {
     "name": "stdout",
     "output_type": "stream",
     "text": [
      "                   date  platform  competitive_analysis  sentiment  \n",
      "0 2024-01-01 12:00:00  android                  True   positive   \n",
      "1 2024-01-02 12:00:00  ios                      False   neutral    \n",
      "2 2024-01-03 12:00:00  android                  True   negative   \n",
      "3 2024-01-04 12:00:00  ios                      True    positive   \n",
      "4 2024-01-05 12:00:00  android                  False   neutral    \n",
      "\n",
      "                                              review  \n",
      "0                       love this app! very useful.  \n",
      "1                          it's okay, nothing special.  \n",
      "2               terrible app, crashes all the time.  \n",
      "3                    excellent, very intuitive design.  \n",
      "4                           it's fine, could be better.  \n"
     ]
    }
   ],
   "source": [
    "# Step 3: Data View\n",
    "print(df.head())"
   ]
  },
  {
   "cell_type": "code",
   "execution_count": 4,
   "metadata": {},
   "outputs": [],
   "source": [
    "# Step 4: Data Cleaning\n",
    "df['sentiment'] = df['sentiment'].map({'positive': 1, 'negative': 0, 'neutral': 2})\n",
    "df['review'] = df['review'].apply(lambda x: x.lower())"
   ]
  },
  {
   "cell_type": "code",
   "execution_count": 5,
   "metadata": {},
   "outputs": [],
   "source": [
    "# Step 5: Data Sorting / Searching / Validation\n",
    "# Sort by date\n",
    "df = df.sort_values(by='date')\n",
    "\n",
    "# Filter by platform\n",
    "platform = 'android'\n",
    "df_platform = df[df['platform'] == platform]\n",
    "\n",
    "# Filter by competitive analysis\n",
    "competitive_analysis = True\n",
    "df_competitive_analysis = df[df['competitive_analysis'] == competitive_analysis]"
   ]
  },
  {
   "cell_type": "code",
   "execution_count": 6,
   "metadata": {},
   "outputs": [
    {
     "data": {
      "text/plain": [
       "1    2\n",
       "0    1\n",
       "2    1\n",
       "Name: sentiment, dtype: int64"
      ]
     },
     "execution_count": 6,
     "metadata": {},
     "output_type": "execute_result"
    }
   ],
   "source": [
    "# Step 6: Data Visualization\n",
    "# Count sentiment\n",
    "sentiment_counts = df['sentiment'].value_counts()\n",
    "sentiment_counts"
   ]
  },
  {
   "cell_type": "code",
   "execution_count": 7,
   "metadata": {},
   "outputs": [
    {
     "data": {
      "text/plain": [
       "1    2\n",
       "0    1\n",
       "2    1\n",
       "Name: sentiment, dtype: int64"
      ]
     },
     "execution_count": 7,
     "metadata": {},
     "output_type": "execute_result"
    }
   ],
   "source": [
    "# Pie chart for sentiment analysis\n",
    "plt.figure(figsize=(6, 6))\n",
    "plt.pie(sentiment_counts, labels=sentiment_counts.index, autopct='%1.1f%%', startangle=140)\n",
    "plt.title('Sentiment Analysis')\n",
    "plt.show()"
   ]
  },
  {
   "cell_type": "code",
   "execution_count": 8,
   "metadata": {},
   "outputs": [],
   "source": [
    "# Bar plot for sentiment analysis\n",
    "plt.figure(figsize=(10, 5))\n",
    "sns.barplot(x=sentiment_counts.index, y=sentiment_counts.values)\n",
    "plt.title('Sentiment Analysis')\n",
    "plt.xlabel('Sentiment')\n",
    "plt.ylabel('Count')\n",
    "plt.show()"
   ]
  },
  {
   "cell_type": "markdown",
   "metadata": {},
   "source": [
    "## Conclusion"
   ]
  },
  {
   "cell_type": "code",
   "execution_count": 9,
   "metadata": {},
   "outputs": [],
   "source": [
    "conclusion = \"This project successfully evaluated user reviews and competitive analysis for mobile apps. The insights provided can help developers and marketers improve their products and strategies.\""
   ]
  }
 ],
 "metadata": {
  "kernelspec": {
   "display_name": "Python 3",
   "language": "python",
   "name": "python3"
  },
  "language_info": {
   "codemirror_mode": {
    "name": "ipython",
    "version": 3
