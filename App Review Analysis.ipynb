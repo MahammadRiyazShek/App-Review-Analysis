{
 "cells": [
  {
   "cell_type": "markdown",
   "metadata": {},
   "source": [
    "# Evaluating User Reviews and Competitive Analysis for Mobile Apps"
   ]
  },
  {
   "cell_type": "markdown",
   "metadata": {},
   "source": [
    "## Purpose\n",
    "This project focuses on evaluating and understanding the sentiments and competitive analysis expressed in user reviews of mobile applications (apps). It involves using data analysis techniques to determine whether the sentiment and competitive analysis in these reviews are positive, negative, or neutral and analyzing reviews of competing apps."
   ]
  },
  {
   "cell_type": "code",
   "execution_count": 1,
   "metadata": {},
   "outputs": [],
   "source": [
    "# Step 1: Importing necessary packages\n",
    "import pandas as pd\n",
    "import matplotlib.pyplot as plt\n",
    "import seaborn as sns\n",
    "from wordcloud import WordCloud\n",
    "from collections import Counter"
   ]
  },
  {
   "cell_type": "code",
   "execution_count": 2,
   "metadata": {},
   "outputs": [],
   "source": [
    "# Step 2: Loading the data from the local system to the jupyter notebook\n",
    "file_path = \"app_reviews.json\"  # Change this to the path of your JSON file\n",
    "df = pd.read_json(file_path)"
   ]
  },
  {
   "cell_type": "code",
   "execution_count": 3,
   "metadata": {},
   "outputs": [
    {
     "name": "stdout",
     "output_type": "stream",
     "text": [
      "                   date  platform  competitive_analysis  sentiment  \\\n",
      "0 2024-01-01 12:00:00  android                  True   positive   \n",
      "1 2024-01-02 12:00:00  ios                      False   neutral    \n",
      "2 2024-01-03 12:00:00  android                  True   negative   \n",
      "3 2024-01-04 12:00:00  ios                      True    positive   \n",
      "4 2024-01-05 12:00:00  android                  False   neutral    \n",
      "\n",
      "                                              review  \n",
      "0                       love this app! very useful.  \n",
      "1                          it's okay, nothing special.  \n",
      "2               terrible app, crashes all the time.  \n",
      "3                    excellent, very intuitive design.  \n",
      "4                           it's fine, could be better.  \n"
     ]
    }
   ],
   "source": [
    "# Step 3: Data View\n",
    "print(df.head())"
   ]
  },
  {
   "cell_type": "code",
   "execution_count": 4,
   "metadata": {},
   "outputs": [],
   "source": [
    "# Step 4: Data Cleaning\n",
    "df['sentiment'] = df['sentiment'].map({'positive': 1, 'negative': 0, 'neutral': 2})\n",
    "df['review'] = df['review'].apply(lambda x: x.lower())"
   ]
  },
  {
   "cell_type": "code",
   "execution_count": 5,
   "metadata": {},
   "outputs": [],
   "source": [
    "# Step 5: Data Sorting / Searching / Validation\n",
    "# Sort by date\n",
    "df = df.sort_values(by='date')\n",
    "\n",
    "# Filter by platform\n",
    "platform = 'android'\n",
    "df_platform = df[df['platform'] == platform]\n",
    "\n",
    "# Filter by competitive analysis\n",
    "competitive_analysis = True\n",
    "df_competitive_analysis = df[df['competitive_analysis'] == competitive_analysis]"
   ]
  },
  {
   "cell_type": "code",
   "execution_count": 6,
   "metadata": {},
   "outputs": [
    {
     "data": {
      "text/plain": [
       "1    2\n",
       "0    1\n",
       "2    1\n",
       "Name: sentiment, dtype: int64"
      ]
     },
     "execution_count": 6,
     "metadata": {},
     "output_type": "execute_result"
    }
   ],
   "source": [
    "# Step 6: Data Visualization\n",
    "# Count sentiment\n",
    "sentiment_counts = df['sentiment'].value_counts()\n",
    "sentiment_counts"
   ]
  },
  {
   "cell_type": "code",
   "execution_count": 7,
   "metadata": {},
   "outputs": [],
   "source": [
    "plt.figure(figsize=(10, 5))\n",
    "sns.barplot(x=sentiment_counts.index, y=sentiment_counts.values)\n",
    "plt.title('Sentiment Analysis')\n",
    "plt.xlabel('Sentiment')\n",
    "plt.ylabel('Count')\n",
    "plt.show()"
   ]
  },
  {
   "cell_type": "code",
   "execution_count": 8,
   "metadata": {},
   "outputs": [
    {
     "data": {
      "image/png": "iVBORw0KGgoAAAANSUhEUgAAA+gAAANACAYAAABOLtvYAAAABHNCSVQICAgIfAhkiAAAAAlwSFlz\nAAAN1wAADdcBQiibeAAAABl0RVh0U29mdHdhcmUAd3d3Lmlua3NjYXBlLm9yZ5vuPBoAAAaWSURB\nVHic7d15fJrGfv7zvYmCwCCkoIECSgKJHlCrviDvb6vbsJOT+X6f+7Znv8On7pz/7VV/6lCugJi\n8t5udr03u/X1tM8v/H9Rj29gAAAAAAAAAAAAAAAAAAAAAAAAAAAAAAAAAAAAAAAAAAAAAAAAAAAA\nAAAAAAAAAAAAAAAAAAAAAAAAAAAAAAAAAAAAAAAAAAAAAAAAAAAAAAAAAAAAAAAAAAAAAAAAAAAA\nAAAAAAAAAAAAAAAAAAAAAAAAgF1O1DQAADzF++KZbgAA8O7+hZUvAKABMN5WOgCA9M9O0DQAADzE\n9O5WGgDAx5vWgBAAAK/8Xlfd3c7N68tJjN1fa09aM6d/jxuPH3OnN+88G/HDtz08bNj49rt14tP\n3fOyl5XpKPLrZu5Pn5msm/04c3vnJ/40fnfr/nLr5s9OXPnlnHlXJvj+srfzZx01y4slYtVVc67\nb7/Vc9/MzmwfrF96Pn1mcz/PCfMmY+Zfn7Mb5y4ctenNT+9r0tOqZmbzO2Ww+8ZMGK+acVV76cn\nrzd48Nv7u36nL47r3/N+MWXqlqvnTdfWpVx7qC5j60fePt7p6zTdcMlX+r5nt/v/s+dn/vPzzl/\nrWc0rdVx04vPvrlvWVPtX9an/vPz7Xvs0mffrx68m1tVP5/1zVvdVy32/dmcs7ryu2VL1c87D6z\nn3d/87m/DxuP/5ypVV6urc3zb1akf9fqXPz42uPXF2ec77rVzOz/7Vy3zOS/5+0N+dKpffK+e5z\nsFec7yHzxmuetb5/c7+m1/sXZ1evFqv81Omx1vPl/YdvTKffLyp1+l62+rH3wWfvr37Mmffrv61\nnffoY/qe7+r6cs1rR77d3XV5Yuv7snXfU/M7b3ePYvFzy5+7px2dc5X7zO3PM3zu37llHXr5pdV\nf1vLfVzrv0+Vfn6t/VxmZ2/5/9pHuvPqdeuPVWta1fK5+tMbncfPG0/x91ccXHjdVxfXz5jpm1P\n9ez1vfVXXe3rV+v1XNPZ1etVx6o/c1tx8zb6Y16pbpPbTxsmX7/6+MtnZL88WW1tXPnSdn7svj1\n2ec/njp+91jP2Z8/7m20vK5t/56pt4xc7W+j9pO1dPc/vF7dc61a2frVzfPyr4pr/37XvXTn/Tm\nnU8Yn1uXqfnN
